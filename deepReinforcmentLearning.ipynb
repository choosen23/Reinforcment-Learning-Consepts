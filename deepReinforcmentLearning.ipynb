{
 "cells": [
  {
   "cell_type": "markdown",
   "metadata": {},
   "source": [
    "### 1. Test Random Environment With OpenAI Gym"
   ]
  },
  {
   "cell_type": "code",
   "execution_count": 2,
   "metadata": {},
   "outputs": [],
   "source": [
    "import gym\n",
    "import random"
   ]
  },
  {
   "cell_type": "code",
   "execution_count": 3,
   "metadata": {},
   "outputs": [
    {
     "name": "stderr",
     "output_type": "stream",
     "text": [
      "C:\\Users\\Michail\\AppData\\Local\\Packages\\PythonSoftwareFoundation.Python.3.10_qbz5n2kfra8p0\\LocalCache\\local-packages\\Python310\\site-packages\\gym\\envs\\registration.py:564: UserWarning: \u001b[33mWARN: The environment CartPole-v0 is out of date. You should consider upgrading to version `v1`.\u001b[0m\n",
      "  logger.warn(\n",
      "C:\\Users\\Michail\\AppData\\Local\\Packages\\PythonSoftwareFoundation.Python.3.10_qbz5n2kfra8p0\\LocalCache\\local-packages\\Python310\\site-packages\\gym\\utils\\passive_env_checker.py:97: UserWarning: \u001b[33mWARN: We recommend you to use a symmetric and normalized Box action space (range=[-1, 1]) https://stable-baselines3.readthedocs.io/en/master/guide/rl_tips.html\u001b[0m\n",
      "  logger.warn(\n"
     ]
    }
   ],
   "source": [
    "env = gym.make('CartPole-v0')\n",
    "states = env.observation_space.shape[0]\n",
    "actions = env.action_space.n"
   ]
  },
  {
   "cell_type": "code",
   "execution_count": 4,
   "metadata": {},
   "outputs": [
    {
     "ename": "NameError",
     "evalue": "name 'episodes' is not defined",
     "output_type": "error",
     "traceback": [
      "\u001b[1;31m---------------------------------------------------------------------------\u001b[0m",
      "\u001b[1;31mNameError\u001b[0m                                 Traceback (most recent call last)",
      "\u001b[1;32mc:\\Users\\Michail\\Documents\\GitHub\\Reinforcment-Learning-Consepts\\deepReinforcmentLearning.ipynb Cell 4'\u001b[0m in \u001b[0;36m<cell line: 2>\u001b[1;34m()\u001b[0m\n\u001b[0;32m      <a href='vscode-notebook-cell:/c%3A/Users/Michail/Documents/GitHub/Reinforcment-Learning-Consepts/deepReinforcmentLearning.ipynb#ch0000003?line=0'>1</a>\u001b[0m \u001b[39m# episodes = 10\u001b[39;00m\n\u001b[1;32m----> <a href='vscode-notebook-cell:/c%3A/Users/Michail/Documents/GitHub/Reinforcment-Learning-Consepts/deepReinforcmentLearning.ipynb#ch0000003?line=1'>2</a>\u001b[0m \u001b[39mfor\u001b[39;00m episode \u001b[39min\u001b[39;00m \u001b[39mrange\u001b[39m(episodes):\n\u001b[0;32m      <a href='vscode-notebook-cell:/c%3A/Users/Michail/Documents/GitHub/Reinforcment-Learning-Consepts/deepReinforcmentLearning.ipynb#ch0000003?line=2'>3</a>\u001b[0m     state \u001b[39m=\u001b[39m env\u001b[39m.\u001b[39mreset()\n\u001b[0;32m      <a href='vscode-notebook-cell:/c%3A/Users/Michail/Documents/GitHub/Reinforcment-Learning-Consepts/deepReinforcmentLearning.ipynb#ch0000003?line=3'>4</a>\u001b[0m     done \u001b[39m=\u001b[39m \u001b[39mFalse\u001b[39;00m\n",
      "\u001b[1;31mNameError\u001b[0m: name 'episodes' is not defined"
     ]
    }
   ],
   "source": [
    "# episodes = 10\n",
    "for episode in range(episodes):\n",
    "    state = env.reset()\n",
    "    done = False\n",
    "    score = 0\n",
    "\n",
    "    while not done:\n",
    "        env.render()\n",
    "        action = random.choice([0,1])\n",
    "        n_state , reward , done , info = env.step(action)\n",
    "        score += reward\n",
    "    print('Episode {} Score {}'.format(episode,score))"
   ]
  },
  {
   "cell_type": "markdown",
   "metadata": {},
   "source": [
    "### 2. Create Deep Learning Model with Keras"
   ]
  },
  {
   "cell_type": "code",
   "execution_count": 9,
   "metadata": {},
   "outputs": [],
   "source": [
    "import numpy as np\n",
    "from tensorflow.keras.models import Sequential\n",
    "from tensorflow.keras.layers import Dense, Flatten\n",
    "from tensorflow.keras.optimizers import Adam"
   ]
  },
  {
   "cell_type": "code",
   "execution_count": 10,
   "metadata": {},
   "outputs": [],
   "source": [
    "def buildModel(state,action):\n",
    "    model = Sequential()\n",
    "    model.add(Flatten(input_shape=(1,states)))\n",
    "    model.add(Dense(24,activation='relu'))\n",
    "    model.add(Dense(24,activation='relu'))\n",
    "    model.add(Dense(24,activation='linear'))\n",
    "    return model"
   ]
  },
  {
   "cell_type": "code",
   "execution_count": 11,
   "metadata": {},
   "outputs": [],
   "source": [
    "model = buildModel(states,actions)"
   ]
  },
  {
   "cell_type": "code",
   "execution_count": 12,
   "metadata": {},
   "outputs": [
    {
     "name": "stdout",
     "output_type": "stream",
     "text": [
      "Model: \"sequential\"\n",
      "_________________________________________________________________\n",
      " Layer (type)                Output Shape              Param #   \n",
      "=================================================================\n",
      " flatten (Flatten)           (None, 4)                 0         \n",
      "                                                                 \n",
      " dense (Dense)               (None, 24)                120       \n",
      "                                                                 \n",
      " dense_1 (Dense)             (None, 24)                600       \n",
      "                                                                 \n",
      " dense_2 (Dense)             (None, 24)                600       \n",
      "                                                                 \n",
      "=================================================================\n",
      "Total params: 1,320\n",
      "Trainable params: 1,320\n",
      "Non-trainable params: 0\n",
      "_________________________________________________________________\n"
     ]
    }
   ],
   "source": [
    "model.summary()"
   ]
  },
  {
   "cell_type": "markdown",
   "metadata": {},
   "source": [
    "### 3.Build Agent with Keras-RL"
   ]
  },
  {
   "cell_type": "code",
   "execution_count": 13,
   "metadata": {},
   "outputs": [],
   "source": [
    "from rl.agents import DQNAgent\n",
    "from rl.policy import BoltzmannQPolicy\n",
    "from rl.memory import SequentialMemory"
   ]
  },
  {
   "cell_type": "code",
   "execution_count": 24,
   "metadata": {},
   "outputs": [],
   "source": [
    "def build_agent(model,actions):\n",
    "    policy = BoltzmannQPolicy()\n",
    "    memory = SequentialMemory(limit=50000, window_length=1)\n",
    "    dqn = DQNAgent(model=model,memory=memory,policy=policy,\n",
    "                            nb_actions=actions,nb_steps_warmup=10,\n",
    "                                        target_model_update=1e-2)\n",
    "    return dqn"
   ]
  },
  {
   "cell_type": "code",
   "execution_count": 25,
   "metadata": {},
   "outputs": [
    {
     "ename": "ValueError",
     "evalue": "Model output \"Tensor(\"dense_2/BiasAdd:0\", shape=(None, 24), dtype=float32)\" has invalid shape. DQN expects a model that has one dimension for each action, in this case 2.",
     "output_type": "error",
     "traceback": [
      "\u001b[1;31m---------------------------------------------------------------------------\u001b[0m",
      "\u001b[1;31mValueError\u001b[0m                                Traceback (most recent call last)",
      "\u001b[1;32mc:\\Users\\Michail\\Documents\\GitHub\\Reinforcment-Learning-Consepts\\deepReinforcmentLearning.ipynb Cell 13'\u001b[0m in \u001b[0;36m<cell line: 1>\u001b[1;34m()\u001b[0m\n\u001b[1;32m----> <a href='vscode-notebook-cell:/c%3A/Users/Michail/Documents/GitHub/Reinforcment-Learning-Consepts/deepReinforcmentLearning.ipynb#ch0000012?line=0'>1</a>\u001b[0m dqn \u001b[39m=\u001b[39m build_agent(model,actions)\n\u001b[0;32m      <a href='vscode-notebook-cell:/c%3A/Users/Michail/Documents/GitHub/Reinforcment-Learning-Consepts/deepReinforcmentLearning.ipynb#ch0000012?line=1'>2</a>\u001b[0m dqn\u001b[39m.\u001b[39mcompile(Adam(lr\u001b[39m=\u001b[39m\u001b[39m1e-3\u001b[39m),metrics\u001b[39m=\u001b[39m[\u001b[39m'\u001b[39m\u001b[39mmae\u001b[39m\u001b[39m'\u001b[39m])\n\u001b[0;32m      <a href='vscode-notebook-cell:/c%3A/Users/Michail/Documents/GitHub/Reinforcment-Learning-Consepts/deepReinforcmentLearning.ipynb#ch0000012?line=2'>3</a>\u001b[0m dqn\u001b[39m.\u001b[39mfit(env,nb_steps\u001b[39m=\u001b[39m\u001b[39m50000\u001b[39m,visualize\u001b[39m=\u001b[39m\u001b[39mTrue\u001b[39;00m,verbose\u001b[39m=\u001b[39m\u001b[39m1\u001b[39m)\n",
      "\u001b[1;32mc:\\Users\\Michail\\Documents\\GitHub\\Reinforcment-Learning-Consepts\\deepReinforcmentLearning.ipynb Cell 12'\u001b[0m in \u001b[0;36mbuild_agent\u001b[1;34m(model, actions)\u001b[0m\n\u001b[0;32m      <a href='vscode-notebook-cell:/c%3A/Users/Michail/Documents/GitHub/Reinforcment-Learning-Consepts/deepReinforcmentLearning.ipynb#ch0000011?line=1'>2</a>\u001b[0m policy \u001b[39m=\u001b[39m BoltzmannQPolicy()\n\u001b[0;32m      <a href='vscode-notebook-cell:/c%3A/Users/Michail/Documents/GitHub/Reinforcment-Learning-Consepts/deepReinforcmentLearning.ipynb#ch0000011?line=2'>3</a>\u001b[0m memory \u001b[39m=\u001b[39m SequentialMemory(limit\u001b[39m=\u001b[39m\u001b[39m50000\u001b[39m, window_length\u001b[39m=\u001b[39m\u001b[39m1\u001b[39m)\n\u001b[1;32m----> <a href='vscode-notebook-cell:/c%3A/Users/Michail/Documents/GitHub/Reinforcment-Learning-Consepts/deepReinforcmentLearning.ipynb#ch0000011?line=3'>4</a>\u001b[0m dqn \u001b[39m=\u001b[39m DQNAgent(model\u001b[39m=\u001b[39;49mmodel,memory\u001b[39m=\u001b[39;49mmemory,policy\u001b[39m=\u001b[39;49mpolicy,\n\u001b[0;32m      <a href='vscode-notebook-cell:/c%3A/Users/Michail/Documents/GitHub/Reinforcment-Learning-Consepts/deepReinforcmentLearning.ipynb#ch0000011?line=4'>5</a>\u001b[0m                         nb_actions\u001b[39m=\u001b[39;49mactions,nb_steps_warmup\u001b[39m=\u001b[39;49m\u001b[39m10\u001b[39;49m,\n\u001b[0;32m      <a href='vscode-notebook-cell:/c%3A/Users/Michail/Documents/GitHub/Reinforcment-Learning-Consepts/deepReinforcmentLearning.ipynb#ch0000011?line=5'>6</a>\u001b[0m                                     target_model_update\u001b[39m=\u001b[39;49m\u001b[39m1e-2\u001b[39;49m)\n\u001b[0;32m      <a href='vscode-notebook-cell:/c%3A/Users/Michail/Documents/GitHub/Reinforcment-Learning-Consepts/deepReinforcmentLearning.ipynb#ch0000011?line=6'>7</a>\u001b[0m \u001b[39mreturn\u001b[39;00m dqn\n",
      "File \u001b[1;32m~\\AppData\\Local\\Packages\\PythonSoftwareFoundation.Python.3.10_qbz5n2kfra8p0\\LocalCache\\local-packages\\Python310\\site-packages\\rl\\agents\\dqn.py:107\u001b[0m, in \u001b[0;36mDQNAgent.__init__\u001b[1;34m(self, model, policy, test_policy, enable_double_dqn, enable_dueling_network, dueling_type, *args, **kwargs)\u001b[0m\n\u001b[0;32m    105\u001b[0m \u001b[39m# Validate (important) input.\u001b[39;00m\n\u001b[0;32m    106\u001b[0m \u001b[39mif\u001b[39;00m \u001b[39mlist\u001b[39m(model\u001b[39m.\u001b[39moutput\u001b[39m.\u001b[39mshape) \u001b[39m!=\u001b[39m \u001b[39mlist\u001b[39m((\u001b[39mNone\u001b[39;00m, \u001b[39mself\u001b[39m\u001b[39m.\u001b[39mnb_actions)):\n\u001b[1;32m--> 107\u001b[0m     \u001b[39mraise\u001b[39;00m \u001b[39mValueError\u001b[39;00m(\u001b[39mf\u001b[39m\u001b[39m'\u001b[39m\u001b[39mModel output \u001b[39m\u001b[39m\"\u001b[39m\u001b[39m{\u001b[39;00mmodel\u001b[39m.\u001b[39moutput\u001b[39m}\u001b[39;00m\u001b[39m\"\u001b[39m\u001b[39m has invalid shape. DQN expects a model that has one dimension for each action, in this case \u001b[39m\u001b[39m{\u001b[39;00m\u001b[39mself\u001b[39m\u001b[39m.\u001b[39mnb_actions\u001b[39m}\u001b[39;00m\u001b[39m.\u001b[39m\u001b[39m'\u001b[39m)\n\u001b[0;32m    109\u001b[0m \u001b[39m# Parameters.\u001b[39;00m\n\u001b[0;32m    110\u001b[0m \u001b[39mself\u001b[39m\u001b[39m.\u001b[39menable_double_dqn \u001b[39m=\u001b[39m enable_double_dqn\n",
      "\u001b[1;31mValueError\u001b[0m: Model output \"Tensor(\"dense_2/BiasAdd:0\", shape=(None, 24), dtype=float32)\" has invalid shape. DQN expects a model that has one dimension for each action, in this case 2."
     ]
    }
   ],
   "source": [
    "dqn = build_agent(model,actions)\n",
    "dqn.compile(Adam(lr=1e-3),metrics=['mae'])\n",
    "dqn.fit(env,nb_steps=50000,visualize=True,verbose=1)"
   ]
  },
  {
   "cell_type": "code",
   "execution_count": null,
   "metadata": {},
   "outputs": [],
   "source": []
  }
 ],
 "metadata": {
  "kernelspec": {
   "display_name": "Python 3.10.5 64-bit (windows store)",
   "language": "python",
   "name": "python3"
  },
  "language_info": {
   "codemirror_mode": {
    "name": "ipython",
    "version": 3
   },
   "file_extension": ".py",
   "mimetype": "text/x-python",
   "name": "python",
   "nbconvert_exporter": "python",
   "pygments_lexer": "ipython3",
   "version": "3.10.5"
  },
  "orig_nbformat": 4,
  "vscode": {
   "interpreter": {
    "hash": "f0c46923b08aeba1702f9dfbff6e786578d22c8a5e001bb2aa2c1e2021c11016"
   }
  }
 },
 "nbformat": 4,
 "nbformat_minor": 2
}
