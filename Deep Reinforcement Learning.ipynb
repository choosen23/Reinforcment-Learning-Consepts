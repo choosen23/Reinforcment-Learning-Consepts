{
 "cells": [
  {
   "cell_type": "markdown",
   "metadata": {},
   "source": [
    "Tutorial from here!\n",
    "https://www.youtube.com/watch?v=ELE2_Mftqoc&ab_channel=freeCodeCamp.org"
   ]
  },
  {
   "cell_type": "code",
   "execution_count": 4,
   "metadata": {},
   "outputs": [],
   "source": [
    "import pandas as pd\n",
    "import numpy as np\n",
    "import tensorflow as tf\n",
    "import os"
   ]
  },
  {
   "cell_type": "code",
   "execution_count": 6,
   "metadata": {},
   "outputs": [],
   "source": [
    "class DeepQNetwork(object):\n",
    "    def __init__(self,lr,n_actions,name, fcl_dims=256,\n",
    "                    input_dims=(210,160,4), chkpt_dir='tmp/dqn'):\n",
    "        self.lr = lr\n",
    "        self.n_actions = n_actions\n",
    "        self.fcl_dims = fcl_dims\n",
    "        self.input_dims = input_dims\n",
    "        self.sess = tf.Session()\n",
    "        self.build_network()\n",
    "        self.sess.run(tf.global_variables_initilizer())\n",
    "        self.saver = tf.train.Saver()\n",
    "        self.checkpoint_file = os.path.join(chkpt_dir,'deepwnet.ckpt')\n",
    "        self.params - tf.get_collection(tf.GraphKeys.TRAINABLE_VARIABLES, \n",
    "                                        scope=self.name)\n",
    "\n",
    "\n",
    "    def build_net(self):\n",
    "        with tf.variable_scope(self.name):\n",
    "            self.input = tf.placeholder(tf.float32, shape=[None, *self.input_dims],\n",
    "                                                                            name='inputs')\n",
    "            self.n_actions = tf.placeholder(tf.float32, shape=[None, self.n_actions],\n",
    "                                                                        name='action_taken')\n",
    "            self.q_target = tf.placehold(tf.float32, shape = [None, self.n_actions])\n",
    "    "
   ]
  }
 ],
 "metadata": {
  "kernelspec": {
   "display_name": "Python 3.10.4 64-bit",
   "language": "python",
   "name": "python3"
  },
  "language_info": {
   "codemirror_mode": {
    "name": "ipython",
    "version": 3
   },
   "file_extension": ".py",
   "mimetype": "text/x-python",
   "name": "python",
   "nbconvert_exporter": "python",
   "pygments_lexer": "ipython3",
   "version": "3.10.4"
  },
  "orig_nbformat": 4,
  "vscode": {
   "interpreter": {
    "hash": "de7495c843f32c5ed741c5a0a2e4f65ffadd39dc2c3987faa5c68525a757f4e4"
   }
  }
 },
 "nbformat": 4,
 "nbformat_minor": 2
}
